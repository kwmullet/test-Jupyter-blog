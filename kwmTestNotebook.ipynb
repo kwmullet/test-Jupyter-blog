{
 "cells": [
  {
   "cell_type": "markdown",
   "metadata": {},
   "source": [
    "## This is a markdown cell.\n",
    "> The cell below is a code cell that I've told to use a ```bash``` kernel in."
   ]
  },
  {
   "cell_type": "code",
   "execution_count": 13,
   "metadata": {},
   "outputs": [
    {
     "name": "stdout",
     "output_type": "stream",
     "text": [
      "Filesystem      Size  Used Avail Use% Mounted on\n",
      "rootfs          476G   88G  388G  19% /\n",
      "none            476G   88G  388G  19% /dev\n",
      "none            476G   88G  388G  19% /run\n",
      "none            476G   88G  388G  19% /run/lock\n",
      "none            476G   88G  388G  19% /run/shm\n",
      "none            476G   88G  388G  19% /run/user\n",
      "C:              476G   88G  388G  19% /mnt/c\n",
      "stretch/sid\n",
      "Ubuntu 16.04.3 LTS (Xenial Xerus)\n",
      "DISTRIB_ID=Ubuntu\n",
      "DISTRIB_RELEASE=16.04\n",
      "DISTRIB_CODENAME=xenial\n",
      "DISTRIB_DESCRIPTION=\"Ubuntu 16.04.3 LTS\"\n",
      "NAME=\"Ubuntu\"\n",
      "VERSION=\"16.04.3 LTS (Xenial Xerus)\"\n",
      "ID=ubuntu\n",
      "ID_LIKE=debian\n",
      "PRETTY_NAME=\"Ubuntu 16.04.3 LTS\"\n",
      "VERSION_ID=\"16.04\"\n",
      "HOME_URL=\"http://www.ubuntu.com/\"\n",
      "SUPPORT_URL=\"http://help.ubuntu.com/\"\n",
      "BUG_REPORT_URL=\"http://bugs.launchpad.net/ubuntu/\"\n",
      "VERSION_CODENAME=xenial\n",
      "UBUNTU_CODENAME=xenial\n",
      "Linux gracehopper 4.4.0-43-Microsoft #1-Microsoft Wed Dec 31 14:42:53 PST 2014 x86_64 x86_64 x86_64 GNU/Linux\n",
      "  PID TTY      STAT   TIME COMMAND\n",
      "    1 ?        Ss     0:00 /init\n",
      "    2 tty1     Ss     0:00 -bash\n",
      "   37 tty1     R      0:00  \\_ ps axwwf\n",
      "uid=1000(kwm) gid=1000(kwm) groups=1000(kwm),4(adm),20(dialout),24(cdrom),25(floppy),27(sudo),29(audio),30(dip),44(video),46(plugdev),109(netdev),110(lxd)\n",
      "Sun Mar 25 22:31:31 DST 2018\n"
     ]
    }
   ],
   "source": [
    "%%bash\n",
    "df -Ph ; cat /etc/*version* /etc/*release* ; uname -a ; ps axwwf ; id -a ; date"
   ]
  }
 ],
 "metadata": {
  "kernelspec": {
   "display_name": "Python 3",
   "language": "python",
   "name": "python3"
  },
  "language_info": {
   "codemirror_mode": {
    "name": "ipython",
    "version": 3
   },
   "file_extension": ".py",
   "mimetype": "text/x-python",
   "name": "python",
   "nbconvert_exporter": "python",
   "pygments_lexer": "ipython3",
   "version": "3.6.4"
  }
 },
 "nbformat": 4,
 "nbformat_minor": 2
}
